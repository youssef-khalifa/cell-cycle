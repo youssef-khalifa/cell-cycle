{
 "cells": [
  {
   "cell_type": "code",
   "execution_count": 1,
   "id": "f1294ca0",
   "metadata": {},
   "outputs": [],
   "source": [
    "from cobra import Model,Reaction,Metabolite"
   ]
  },
  {
   "cell_type": "code",
   "execution_count": 2,
   "id": "43e47f84",
   "metadata": {},
   "outputs": [],
   "source": [
    "import cobra"
   ]
  },
  {
   "cell_type": "code",
   "execution_count": 3,
   "id": "ad23a6d7",
   "metadata": {},
   "outputs": [],
   "source": [
    "model=Model('first_model')"
   ]
  },
  {
   "cell_type": "code",
   "execution_count": 4,
   "id": "e4e28af3",
   "metadata": {},
   "outputs": [],
   "source": [
    "v1=Reaction('v1')\n",
    "v1.name='v1'\n",
    "v1.lower_bound=0\n",
    "v1.upper_bound=1000"
   ]
  },
  {
   "cell_type": "code",
   "execution_count": 5,
   "id": "8f773cf5",
   "metadata": {},
   "outputs": [],
   "source": [
    "v2=Reaction('v2')\n",
    "v2.name='v2'\n",
    "v2.lower_bound=0\n",
    "v2.upper_bound=1000"
   ]
  },
  {
   "cell_type": "code",
   "execution_count": 6,
   "id": "247a2b35",
   "metadata": {},
   "outputs": [],
   "source": [
    "M=Reaction('M')\n",
    "M.name='M'\n",
    "M.lower_bound=0\n",
    "M.upper_bound=1000"
   ]
  },
  {
   "cell_type": "code",
   "execution_count": 7,
   "id": "2c961913",
   "metadata": {},
   "outputs": [],
   "source": [
    "v0=Reaction('v0')\n",
    "v0.name='v0'\n",
    "v0.lower_bound=1\n",
    "v0.upper_bound=1"
   ]
  },
  {
   "cell_type": "code",
   "execution_count": 8,
   "id": "fcdc7cac",
   "metadata": {},
   "outputs": [],
   "source": [
    "v3=Reaction('v3')\n",
    "v3.name='v3'\n",
    "v3.lower_bound=.9\n",
    "v3.upper_bound=.9"
   ]
  },
  {
   "cell_type": "code",
   "execution_count": 9,
   "id": "af42d229",
   "metadata": {},
   "outputs": [],
   "source": [
    "v4=Reaction('v4')\n",
    "v4.name='v4'\n",
    "v4.lower_bound=0\n",
    "v4.upper_bound=1000"
   ]
  },
  {
   "cell_type": "code",
   "execution_count": 10,
   "id": "db7d12d5",
   "metadata": {},
   "outputs": [],
   "source": [
    "A=Metabolite('A',compartment='c')\n",
    "B=Metabolite('B',compartment='c')\n",
    "C=Metabolite('C',compartment='c')\n",
    "ATP=Metabolite('ATP',compartment='c')"
   ]
  },
  {
   "cell_type": "code",
   "execution_count": 11,
   "id": "37b55002",
   "metadata": {},
   "outputs": [],
   "source": [
    "################ V1 : A======>B #################\n",
    "v1.add_metabolites({A:-1,B:1})\n",
    "\n",
    "################ V2 : B======>C #################\n",
    "v2.add_metabolites({B:-1,C:1})\n",
    "\n",
    "################ V0 : ======>A #################\n",
    "v0.add_metabolites({A:1})\n",
    "\n",
    "################ M : C======> #################\n",
    "M.add_metabolites({C:-1})\n",
    "\n",
    "\n",
    "################ v3 : A======>ATP #################\n",
    "v3.add_metabolites({A:-1,ATP:1})\n",
    "\n",
    "################ v4 : ATP======> #################\n",
    "v4.add_metabolites({ATP:-1})"
   ]
  },
  {
   "cell_type": "code",
   "execution_count": 12,
   "id": "1eb2a530",
   "metadata": {},
   "outputs": [],
   "source": [
    "model.add_reactions([v0,v1,v2,v3,v4,M])"
   ]
  },
  {
   "cell_type": "code",
   "execution_count": 13,
   "id": "b65bcea6",
   "metadata": {},
   "outputs": [],
   "source": [
    "model.objective='M'"
   ]
  },
  {
   "cell_type": "code",
   "execution_count": 14,
   "id": "d28e1977",
   "metadata": {},
   "outputs": [
    {
     "data": {
      "text/html": [
       "<strong><em>Optimal</em> solution with objective value 0.100</strong><br><div>\n",
       "<style scoped>\n",
       "    .dataframe tbody tr th:only-of-type {\n",
       "        vertical-align: middle;\n",
       "    }\n",
       "\n",
       "    .dataframe tbody tr th {\n",
       "        vertical-align: top;\n",
       "    }\n",
       "\n",
       "    .dataframe thead th {\n",
       "        text-align: right;\n",
       "    }\n",
       "</style>\n",
       "<table border=\"1\" class=\"dataframe\">\n",
       "  <thead>\n",
       "    <tr style=\"text-align: right;\">\n",
       "      <th></th>\n",
       "      <th>fluxes</th>\n",
       "      <th>reduced_costs</th>\n",
       "    </tr>\n",
       "  </thead>\n",
       "  <tbody>\n",
       "    <tr>\n",
       "      <th>v0</th>\n",
       "      <td>1.0</td>\n",
       "      <td>2.0</td>\n",
       "    </tr>\n",
       "    <tr>\n",
       "      <th>v1</th>\n",
       "      <td>0.1</td>\n",
       "      <td>0.0</td>\n",
       "    </tr>\n",
       "    <tr>\n",
       "      <th>v2</th>\n",
       "      <td>0.1</td>\n",
       "      <td>0.0</td>\n",
       "    </tr>\n",
       "    <tr>\n",
       "      <th>v3</th>\n",
       "      <td>0.9</td>\n",
       "      <td>-2.0</td>\n",
       "    </tr>\n",
       "    <tr>\n",
       "      <th>v4</th>\n",
       "      <td>0.9</td>\n",
       "      <td>0.0</td>\n",
       "    </tr>\n",
       "    <tr>\n",
       "      <th>M</th>\n",
       "      <td>0.1</td>\n",
       "      <td>0.0</td>\n",
       "    </tr>\n",
       "  </tbody>\n",
       "</table>\n",
       "</div>"
      ],
      "text/plain": [
       "<Solution 0.100 at 0x179a996df10>"
      ]
     },
     "execution_count": 14,
     "metadata": {},
     "output_type": "execute_result"
    }
   ],
   "source": [
    "model.optimize()"
   ]
  },
  {
   "cell_type": "code",
   "execution_count": 15,
   "id": "31e7857d",
   "metadata": {},
   "outputs": [
    {
     "data": {
      "text/html": [
       "<h3>Objective</h3><p>1.0 M = 0.09999999999999998</p><h4>Uptake</h4><table border=\"1\" class=\"dataframe\">\n",
       "  <thead>\n",
       "    <tr style=\"text-align: right;\">\n",
       "      <th>Metabolite</th>\n",
       "      <th>Reaction</th>\n",
       "      <th>Flux</th>\n",
       "      <th>C-Number</th>\n",
       "      <th>C-Flux</th>\n",
       "    </tr>\n",
       "  </thead>\n",
       "  <tbody>\n",
       "    <tr>\n",
       "      <td>A</td>\n",
       "      <td>v0</td>\n",
       "      <td>1</td>\n",
       "      <td>0</td>\n",
       "      <td>0.00%</td>\n",
       "    </tr>\n",
       "  </tbody>\n",
       "</table><h4>Secretion</h4><table border=\"1\" class=\"dataframe\">\n",
       "  <thead>\n",
       "    <tr style=\"text-align: right;\">\n",
       "      <th>Metabolite</th>\n",
       "      <th>Reaction</th>\n",
       "      <th>Flux</th>\n",
       "      <th>C-Number</th>\n",
       "      <th>C-Flux</th>\n",
       "    </tr>\n",
       "  </thead>\n",
       "  <tbody>\n",
       "    <tr>\n",
       "      <td>C</td>\n",
       "      <td>M</td>\n",
       "      <td>-0.1</td>\n",
       "      <td>0</td>\n",
       "      <td>0.00%</td>\n",
       "    </tr>\n",
       "    <tr>\n",
       "      <td>ATP</td>\n",
       "      <td>v4</td>\n",
       "      <td>-0.9</td>\n",
       "      <td>0</td>\n",
       "      <td>0.00%</td>\n",
       "    </tr>\n",
       "  </tbody>\n",
       "</table>"
      ],
      "text/plain": [
       "<cobra.summary.model_summary.ModelSummary at 0x179a9996580>"
      ]
     },
     "execution_count": 15,
     "metadata": {},
     "output_type": "execute_result"
    }
   ],
   "source": [
    "model.summary()"
   ]
  },
  {
   "cell_type": "code",
   "execution_count": 16,
   "id": "3c855c89",
   "metadata": {},
   "outputs": [],
   "source": [
    "cobra.io.save_json_model(model,\"test.json\")"
   ]
  },
  {
   "cell_type": "code",
   "execution_count": 17,
   "id": "fb83185b",
   "metadata": {},
   "outputs": [
    {
     "name": "stdout",
     "output_type": "stream",
     "text": [
      "Requirement already satisfied: escher in c:\\users\\user\\anaconda3\\lib\\site-packages (1.7.3)\n",
      "Requirement already satisfied: cobra>=0.5.0 in c:\\users\\user\\anaconda3\\lib\\site-packages (from escher) (0.24.0)\n",
      "Requirement already satisfied: Jinja2<3,>=2.7.3 in c:\\users\\user\\anaconda3\\lib\\site-packages (from escher) (2.11.3)\n",
      "Requirement already satisfied: pandas>=0.18 in c:\\users\\user\\anaconda3\\lib\\site-packages (from escher) (1.3.4)\n",
      "Requirement already satisfied: pytest<5,>=4.0.1 in c:\\users\\user\\anaconda3\\lib\\site-packages (from escher) (4.6.11)\n",
      "Requirement already satisfied: ipywidgets<8,>=7.4.0 in c:\\users\\user\\anaconda3\\lib\\site-packages (from escher) (7.6.5)\n",
      "Requirement already satisfied: jsonschema<4,>=3.0.1 in c:\\users\\user\\anaconda3\\lib\\site-packages (from escher) (3.2.0)\n",
      "Requirement already satisfied: diskcache~=5.0 in c:\\users\\user\\anaconda3\\lib\\site-packages (from cobra>=0.5.0->escher) (5.4.0)\n",
      "Requirement already satisfied: python-libsbml==5.19.2 in c:\\users\\user\\anaconda3\\lib\\site-packages (from cobra>=0.5.0->escher) (5.19.2)\n",
      "Requirement already satisfied: pydantic~=1.6 in c:\\users\\user\\anaconda3\\lib\\site-packages (from cobra>=0.5.0->escher) (1.9.0)\n",
      "Requirement already satisfied: ruamel.yaml~=0.16 in c:\\users\\user\\anaconda3\\lib\\site-packages (from cobra>=0.5.0->escher) (0.17.21)\n",
      "Requirement already satisfied: appdirs~=1.4 in c:\\users\\user\\anaconda3\\lib\\site-packages (from cobra>=0.5.0->escher) (1.4.4)\n",
      "Requirement already satisfied: importlib-resources in c:\\users\\user\\anaconda3\\lib\\site-packages (from cobra>=0.5.0->escher) (5.4.0)\n",
      "Requirement already satisfied: future in c:\\users\\user\\anaconda3\\lib\\site-packages (from cobra>=0.5.0->escher) (0.18.2)\n",
      "Requirement already satisfied: rich>=8.0 in c:\\users\\user\\anaconda3\\lib\\site-packages (from cobra>=0.5.0->escher) (12.0.0)\n",
      "Requirement already satisfied: numpy~=1.13 in c:\\users\\user\\anaconda3\\lib\\site-packages (from cobra>=0.5.0->escher) (1.20.3)\n",
      "Requirement already satisfied: httpx~=0.14 in c:\\users\\user\\anaconda3\\lib\\site-packages (from cobra>=0.5.0->escher) (0.22.0)\n",
      "Requirement already satisfied: optlang~=1.5 in c:\\users\\user\\anaconda3\\lib\\site-packages (from cobra>=0.5.0->escher) (1.5.2)\n",
      "Requirement already satisfied: swiglpk in c:\\users\\user\\anaconda3\\lib\\site-packages (from cobra>=0.5.0->escher) (5.0.4)\n",
      "Requirement already satisfied: depinfo~=1.7 in c:\\users\\user\\anaconda3\\lib\\site-packages (from cobra>=0.5.0->escher) (1.7.0)\n",
      "Requirement already satisfied: sniffio in c:\\users\\user\\anaconda3\\lib\\site-packages (from httpx~=0.14->cobra>=0.5.0->escher) (1.2.0)\n",
      "Requirement already satisfied: httpcore<0.15.0,>=0.14.5 in c:\\users\\user\\anaconda3\\lib\\site-packages (from httpx~=0.14->cobra>=0.5.0->escher) (0.14.7)\n",
      "Requirement already satisfied: charset-normalizer in c:\\users\\user\\anaconda3\\lib\\site-packages (from httpx~=0.14->cobra>=0.5.0->escher) (2.0.4)\n",
      "Requirement already satisfied: rfc3986[idna2008]<2,>=1.3 in c:\\users\\user\\anaconda3\\lib\\site-packages (from httpx~=0.14->cobra>=0.5.0->escher) (1.5.0)\n",
      "Requirement already satisfied: certifi in c:\\users\\user\\anaconda3\\lib\\site-packages (from httpx~=0.14->cobra>=0.5.0->escher) (2021.10.8)\n",
      "Requirement already satisfied: anyio==3.* in c:\\users\\user\\anaconda3\\lib\\site-packages (from httpcore<0.15.0,>=0.14.5->httpx~=0.14->cobra>=0.5.0->escher) (3.5.0)\n",
      "Requirement already satisfied: h11<0.13,>=0.11 in c:\\users\\user\\anaconda3\\lib\\site-packages (from httpcore<0.15.0,>=0.14.5->httpx~=0.14->cobra>=0.5.0->escher) (0.12.0)\n",
      "Requirement already satisfied: idna>=2.8 in c:\\users\\user\\anaconda3\\lib\\site-packages (from anyio==3.*->httpcore<0.15.0,>=0.14.5->httpx~=0.14->cobra>=0.5.0->escher) (3.2)\n",
      "Requirement already satisfied: ipython-genutils~=0.2.0 in c:\\users\\user\\anaconda3\\lib\\site-packages (from ipywidgets<8,>=7.4.0->escher) (0.2.0)\n",
      "Requirement already satisfied: nbformat>=4.2.0 in c:\\users\\user\\anaconda3\\lib\\site-packages (from ipywidgets<8,>=7.4.0->escher) (5.1.3)\n",
      "Requirement already satisfied: ipykernel>=4.5.1 in c:\\users\\user\\anaconda3\\lib\\site-packages (from ipywidgets<8,>=7.4.0->escher) (6.4.1)\n",
      "Requirement already satisfied: ipython>=4.0.0 in c:\\users\\user\\anaconda3\\lib\\site-packages (from ipywidgets<8,>=7.4.0->escher) (7.29.0)\n",
      "Requirement already satisfied: traitlets>=4.3.1 in c:\\users\\user\\anaconda3\\lib\\site-packages (from ipywidgets<8,>=7.4.0->escher) (5.1.0)\n",
      "Requirement already satisfied: jupyterlab-widgets>=1.0.0 in c:\\users\\user\\anaconda3\\lib\\site-packages (from ipywidgets<8,>=7.4.0->escher) (1.0.0)\n",
      "Requirement already satisfied: widgetsnbextension~=3.5.0 in c:\\users\\user\\anaconda3\\lib\\site-packages (from ipywidgets<8,>=7.4.0->escher) (3.5.1)\n",
      "Requirement already satisfied: jupyter-client<8.0 in c:\\users\\user\\anaconda3\\lib\\site-packages (from ipykernel>=4.5.1->ipywidgets<8,>=7.4.0->escher) (6.1.12)\n",
      "Requirement already satisfied: debugpy<2.0,>=1.0.0 in c:\\users\\user\\anaconda3\\lib\\site-packages (from ipykernel>=4.5.1->ipywidgets<8,>=7.4.0->escher) (1.4.1)\n",
      "Requirement already satisfied: tornado<7.0,>=4.2 in c:\\users\\user\\anaconda3\\lib\\site-packages (from ipykernel>=4.5.1->ipywidgets<8,>=7.4.0->escher) (6.1)\n",
      "Requirement already satisfied: matplotlib-inline<0.2.0,>=0.1.0 in c:\\users\\user\\anaconda3\\lib\\site-packages (from ipykernel>=4.5.1->ipywidgets<8,>=7.4.0->escher) (0.1.2)\n",
      "Requirement already satisfied: jedi>=0.16 in c:\\users\\user\\anaconda3\\lib\\site-packages (from ipython>=4.0.0->ipywidgets<8,>=7.4.0->escher) (0.18.0)\n",
      "Requirement already satisfied: backcall in c:\\users\\user\\anaconda3\\lib\\site-packages (from ipython>=4.0.0->ipywidgets<8,>=7.4.0->escher) (0.2.0)\n",
      "Requirement already satisfied: colorama in c:\\users\\user\\anaconda3\\lib\\site-packages (from ipython>=4.0.0->ipywidgets<8,>=7.4.0->escher) (0.4.4)\n",
      "Requirement already satisfied: setuptools>=18.5 in c:\\users\\user\\anaconda3\\lib\\site-packages (from ipython>=4.0.0->ipywidgets<8,>=7.4.0->escher) (58.0.4)\n",
      "Requirement already satisfied: pygments in c:\\users\\user\\anaconda3\\lib\\site-packages (from ipython>=4.0.0->ipywidgets<8,>=7.4.0->escher) (2.10.0)\n",
      "Requirement already satisfied: prompt-toolkit!=3.0.0,!=3.0.1,<3.1.0,>=2.0.0 in c:\\users\\user\\anaconda3\\lib\\site-packages (from ipython>=4.0.0->ipywidgets<8,>=7.4.0->escher) (3.0.20)\n",
      "Requirement already satisfied: decorator in c:\\users\\user\\anaconda3\\lib\\site-packages (from ipython>=4.0.0->ipywidgets<8,>=7.4.0->escher) (5.1.0)\n",
      "Requirement already satisfied: pickleshare in c:\\users\\user\\anaconda3\\lib\\site-packages (from ipython>=4.0.0->ipywidgets<8,>=7.4.0->escher) (0.7.5)\n",
      "Requirement already satisfied: parso<0.9.0,>=0.8.0 in c:\\users\\user\\anaconda3\\lib\\site-packages (from jedi>=0.16->ipython>=4.0.0->ipywidgets<8,>=7.4.0->escher) (0.8.2)\n",
      "Requirement already satisfied: MarkupSafe>=0.23 in c:\\users\\user\\anaconda3\\lib\\site-packages (from Jinja2<3,>=2.7.3->escher) (1.1.1)\n",
      "Requirement already satisfied: six>=1.11.0 in c:\\users\\user\\anaconda3\\lib\\site-packages (from jsonschema<4,>=3.0.1->escher) (1.16.0)\n",
      "Requirement already satisfied: attrs>=17.4.0 in c:\\users\\user\\anaconda3\\lib\\site-packages (from jsonschema<4,>=3.0.1->escher) (21.2.0)\n",
      "Requirement already satisfied: pyrsistent>=0.14.0 in c:\\users\\user\\anaconda3\\lib\\site-packages (from jsonschema<4,>=3.0.1->escher) (0.18.0)\n",
      "Requirement already satisfied: pyzmq>=13 in c:\\users\\user\\anaconda3\\lib\\site-packages (from jupyter-client<8.0->ipykernel>=4.5.1->ipywidgets<8,>=7.4.0->escher) (22.2.1)\n",
      "Requirement already satisfied: python-dateutil>=2.1 in c:\\users\\user\\anaconda3\\lib\\site-packages (from jupyter-client<8.0->ipykernel>=4.5.1->ipywidgets<8,>=7.4.0->escher) (2.8.2)\n",
      "Requirement already satisfied: jupyter-core>=4.6.0 in c:\\users\\user\\anaconda3\\lib\\site-packages (from jupyter-client<8.0->ipykernel>=4.5.1->ipywidgets<8,>=7.4.0->escher) (4.8.1)\n",
      "Requirement already satisfied: pywin32>=1.0 in c:\\users\\user\\anaconda3\\lib\\site-packages (from jupyter-core>=4.6.0->jupyter-client<8.0->ipykernel>=4.5.1->ipywidgets<8,>=7.4.0->escher) (228)\n",
      "Requirement already satisfied: sympy>=1.0 in c:\\users\\user\\anaconda3\\lib\\site-packages (from optlang~=1.5->cobra>=0.5.0->escher) (1.9)\n",
      "Requirement already satisfied: pytz>=2017.3 in c:\\users\\user\\anaconda3\\lib\\site-packages (from pandas>=0.18->escher) (2021.3)\n",
      "Requirement already satisfied: wcwidth in c:\\users\\user\\anaconda3\\lib\\site-packages (from prompt-toolkit!=3.0.0,!=3.0.1,<3.1.0,>=2.0.0->ipython>=4.0.0->ipywidgets<8,>=7.4.0->escher) (0.2.5)\n",
      "Requirement already satisfied: typing-extensions>=3.7.4.3 in c:\\users\\user\\anaconda3\\lib\\site-packages (from pydantic~=1.6->cobra>=0.5.0->escher) (3.10.0.2)\n",
      "Requirement already satisfied: pluggy<1.0,>=0.12 in c:\\users\\user\\anaconda3\\lib\\site-packages (from pytest<5,>=4.0.1->escher) (0.13.1)\n",
      "Requirement already satisfied: atomicwrites>=1.0 in c:\\users\\user\\anaconda3\\lib\\site-packages (from pytest<5,>=4.0.1->escher) (1.4.0)\n",
      "Requirement already satisfied: py>=1.5.0 in c:\\users\\user\\anaconda3\\lib\\site-packages (from pytest<5,>=4.0.1->escher) (1.10.0)\n",
      "Requirement already satisfied: more-itertools>=4.0.0 in c:\\users\\user\\anaconda3\\lib\\site-packages (from pytest<5,>=4.0.1->escher) (8.10.0)\n",
      "Requirement already satisfied: packaging in c:\\users\\user\\anaconda3\\lib\\site-packages (from pytest<5,>=4.0.1->escher) (21.0)\n",
      "Requirement already satisfied: commonmark<0.10.0,>=0.9.0 in c:\\users\\user\\anaconda3\\lib\\site-packages (from rich>=8.0->cobra>=0.5.0->escher) (0.9.1)\n",
      "Requirement already satisfied: ruamel.yaml.clib>=0.2.6 in c:\\users\\user\\anaconda3\\lib\\site-packages (from ruamel.yaml~=0.16->cobra>=0.5.0->escher) (0.2.6)\n",
      "Requirement already satisfied: mpmath>=0.19 in c:\\users\\user\\anaconda3\\lib\\site-packages (from sympy>=1.0->optlang~=1.5->cobra>=0.5.0->escher) (1.2.1)\n",
      "Requirement already satisfied: notebook>=4.4.1 in c:\\users\\user\\anaconda3\\lib\\site-packages (from widgetsnbextension~=3.5.0->ipywidgets<8,>=7.4.0->escher) (6.4.5)\n",
      "Requirement already satisfied: prometheus-client in c:\\users\\user\\anaconda3\\lib\\site-packages (from notebook>=4.4.1->widgetsnbextension~=3.5.0->ipywidgets<8,>=7.4.0->escher) (0.11.0)\n",
      "Requirement already satisfied: nbconvert in c:\\users\\user\\anaconda3\\lib\\site-packages (from notebook>=4.4.1->widgetsnbextension~=3.5.0->ipywidgets<8,>=7.4.0->escher) (6.1.0)\n",
      "Requirement already satisfied: Send2Trash>=1.5.0 in c:\\users\\user\\anaconda3\\lib\\site-packages (from notebook>=4.4.1->widgetsnbextension~=3.5.0->ipywidgets<8,>=7.4.0->escher) (1.8.0)\n",
      "Requirement already satisfied: argon2-cffi in c:\\users\\user\\anaconda3\\lib\\site-packages (from notebook>=4.4.1->widgetsnbextension~=3.5.0->ipywidgets<8,>=7.4.0->escher) (20.1.0)\n",
      "Requirement already satisfied: terminado>=0.8.3 in c:\\users\\user\\anaconda3\\lib\\site-packages (from notebook>=4.4.1->widgetsnbextension~=3.5.0->ipywidgets<8,>=7.4.0->escher) (0.9.4)\n",
      "Requirement already satisfied: pywinpty>=0.5 in c:\\users\\user\\anaconda3\\lib\\site-packages (from terminado>=0.8.3->notebook>=4.4.1->widgetsnbextension~=3.5.0->ipywidgets<8,>=7.4.0->escher) (0.5.7)\n",
      "Requirement already satisfied: cffi>=1.0.0 in c:\\users\\user\\anaconda3\\lib\\site-packages (from argon2-cffi->notebook>=4.4.1->widgetsnbextension~=3.5.0->ipywidgets<8,>=7.4.0->escher) (1.14.6)\n",
      "Requirement already satisfied: pycparser in c:\\users\\user\\anaconda3\\lib\\site-packages (from cffi>=1.0.0->argon2-cffi->notebook>=4.4.1->widgetsnbextension~=3.5.0->ipywidgets<8,>=7.4.0->escher) (2.20)\n",
      "Requirement already satisfied: zipp>=3.1.0 in c:\\users\\user\\anaconda3\\lib\\site-packages (from importlib-resources->cobra>=0.5.0->escher) (3.6.0)\n",
      "Requirement already satisfied: mistune<2,>=0.8.1 in c:\\users\\user\\anaconda3\\lib\\site-packages (from nbconvert->notebook>=4.4.1->widgetsnbextension~=3.5.0->ipywidgets<8,>=7.4.0->escher) (0.8.4)\n",
      "Requirement already satisfied: entrypoints>=0.2.2 in c:\\users\\user\\anaconda3\\lib\\site-packages (from nbconvert->notebook>=4.4.1->widgetsnbextension~=3.5.0->ipywidgets<8,>=7.4.0->escher) (0.3)\n",
      "Requirement already satisfied: pandocfilters>=1.4.1 in c:\\users\\user\\anaconda3\\lib\\site-packages (from nbconvert->notebook>=4.4.1->widgetsnbextension~=3.5.0->ipywidgets<8,>=7.4.0->escher) (1.4.3)\n",
      "Requirement already satisfied: defusedxml in c:\\users\\user\\anaconda3\\lib\\site-packages (from nbconvert->notebook>=4.4.1->widgetsnbextension~=3.5.0->ipywidgets<8,>=7.4.0->escher) (0.7.1)\n",
      "Requirement already satisfied: nbclient<0.6.0,>=0.5.0 in c:\\users\\user\\anaconda3\\lib\\site-packages (from nbconvert->notebook>=4.4.1->widgetsnbextension~=3.5.0->ipywidgets<8,>=7.4.0->escher) (0.5.3)\n",
      "Requirement already satisfied: bleach in c:\\users\\user\\anaconda3\\lib\\site-packages (from nbconvert->notebook>=4.4.1->widgetsnbextension~=3.5.0->ipywidgets<8,>=7.4.0->escher) (4.0.0)\n",
      "Requirement already satisfied: jupyterlab-pygments in c:\\users\\user\\anaconda3\\lib\\site-packages (from nbconvert->notebook>=4.4.1->widgetsnbextension~=3.5.0->ipywidgets<8,>=7.4.0->escher) (0.1.2)\n",
      "Requirement already satisfied: testpath in c:\\users\\user\\anaconda3\\lib\\site-packages (from nbconvert->notebook>=4.4.1->widgetsnbextension~=3.5.0->ipywidgets<8,>=7.4.0->escher) (0.5.0)\n",
      "Requirement already satisfied: async-generator in c:\\users\\user\\anaconda3\\lib\\site-packages (from nbclient<0.6.0,>=0.5.0->nbconvert->notebook>=4.4.1->widgetsnbextension~=3.5.0->ipywidgets<8,>=7.4.0->escher) (1.10)\n",
      "Requirement already satisfied: nest-asyncio in c:\\users\\user\\anaconda3\\lib\\site-packages (from nbclient<0.6.0,>=0.5.0->nbconvert->notebook>=4.4.1->widgetsnbextension~=3.5.0->ipywidgets<8,>=7.4.0->escher) (1.5.1)\n",
      "Requirement already satisfied: webencodings in c:\\users\\user\\anaconda3\\lib\\site-packages (from bleach->nbconvert->notebook>=4.4.1->widgetsnbextension~=3.5.0->ipywidgets<8,>=7.4.0->escher) (0.5.1)\n",
      "Requirement already satisfied: pyparsing>=2.0.2 in c:\\users\\user\\anaconda3\\lib\\site-packages (from packaging->pytest<5,>=4.0.1->escher) (3.0.4)\n"
     ]
    }
   ],
   "source": [
    "!pip install escher"
   ]
  },
  {
   "cell_type": "code",
   "execution_count": 18,
   "id": "1d810a42",
   "metadata": {},
   "outputs": [],
   "source": [
    "import escher"
   ]
  },
  {
   "cell_type": "code",
   "execution_count": 19,
   "id": "b0a06e5b",
   "metadata": {},
   "outputs": [],
   "source": [
    "from escher import Builder"
   ]
  },
  {
   "cell_type": "code",
   "execution_count": 20,
   "id": "d0c1d0df",
   "metadata": {},
   "outputs": [
    {
     "data": {
      "text/html": [
       "\n",
       "        <table>\n",
       "            <tr>\n",
       "                <td><strong>Name</strong></td>\n",
       "                <td>first_model</td>\n",
       "            </tr><tr>\n",
       "                <td><strong>Memory address</strong></td>\n",
       "                <td>0x0179a9cf2790</td>\n",
       "            </tr><tr>\n",
       "                <td><strong>Number of metabolites</strong></td>\n",
       "                <td>4</td>\n",
       "            </tr><tr>\n",
       "                <td><strong>Number of reactions</strong></td>\n",
       "                <td>6</td>\n",
       "            </tr><tr>\n",
       "                <td><strong>Number of groups</strong></td>\n",
       "                <td>0</td>\n",
       "            </tr><tr>\n",
       "                <td><strong>Objective expression</strong></td>\n",
       "                <td>1.0*M - 1.0*M_reverse_69691</td>\n",
       "            </tr><tr>\n",
       "                <td><strong>Compartments</strong></td>\n",
       "                <td>c</td>\n",
       "            </tr>\n",
       "          </table>"
      ],
      "text/plain": [
       "<Model first_model at 0x179a9cf2790>"
      ]
     },
     "execution_count": 20,
     "metadata": {},
     "output_type": "execute_result"
    }
   ],
   "source": [
    "cobra.io.load_json_model(\"test.json\")"
   ]
  },
  {
   "cell_type": "code",
   "execution_count": 21,
   "id": "42d81350",
   "metadata": {},
   "outputs": [],
   "source": [
    "builder=Builder()"
   ]
  },
  {
   "cell_type": "code",
   "execution_count": 22,
   "id": "7f83e465",
   "metadata": {
    "scrolled": true
   },
   "outputs": [
    {
     "data": {
      "application/vnd.jupyter.widget-view+json": {
       "model_id": "2b6e2e7a0a9e4861842348d00ee96232",
       "version_major": 2,
       "version_minor": 0
      },
      "text/plain": [
       "Builder()"
      ]
     },
     "metadata": {},
     "output_type": "display_data"
    }
   ],
   "source": [
    "builder"
   ]
  }
 ],
 "metadata": {
  "kernelspec": {
   "display_name": "Python 3 (ipykernel)",
   "language": "python",
   "name": "python3"
  },
  "language_info": {
   "codemirror_mode": {
    "name": "ipython",
    "version": 3
   },
   "file_extension": ".py",
   "mimetype": "text/x-python",
   "name": "python",
   "nbconvert_exporter": "python",
   "pygments_lexer": "ipython3",
   "version": "3.9.7"
  }
 },
 "nbformat": 4,
 "nbformat_minor": 5
}
